{
  "nbformat": 4,
  "nbformat_minor": 0,
  "metadata": {
    "colab": {
      "name": "Tensorflow Quantum Sample Codes.ipynb",
      "provenance": []
    },
    "kernelspec": {
      "name": "python3",
      "display_name": "Python 3"
    }
  },
  "cells": [
    {
      "cell_type": "markdown",
      "metadata": {
        "id": "Q1k4985JYC9Y",
        "colab_type": "text"
      },
      "source": [
        "# Topic 3 Tensorflow Quanutm"
      ]
    },
    {
      "cell_type": "markdown",
      "metadata": {
        "id": "xOlTH8HcLYcb",
        "colab_type": "text"
      },
      "source": [
        "## Install Tensorflow Quantum and Cirq"
      ]
    },
    {
      "cell_type": "code",
      "metadata": {
        "id": "RPOPslBnXgcd",
        "colab_type": "code",
        "colab": {}
      },
      "source": [
        "!pip install tensorflow==2.1.0"
      ],
      "execution_count": null,
      "outputs": []
    },
    {
      "cell_type": "code",
      "metadata": {
        "id": "8bh78HeTom1Q",
        "colab_type": "code",
        "colab": {}
      },
      "source": [
        "!pip install tensorflow-quantum"
      ],
      "execution_count": null,
      "outputs": []
    },
    {
      "cell_type": "code",
      "metadata": {
        "id": "V71YFWBQQnyI",
        "colab_type": "code",
        "colab": {}
      },
      "source": [
        "!pip install cirq"
      ],
      "execution_count": null,
      "outputs": []
    },
    {
      "cell_type": "code",
      "metadata": {
        "id": "a0_RJaOfSWhO",
        "colab_type": "code",
        "colab": {}
      },
      "source": [
        "import tensorflow as tf\n",
        "import tensorflow_quantum as tfq\n",
        "\n",
        "import cirq"
      ],
      "execution_count": null,
      "outputs": []
    },
    {
      "cell_type": "code",
      "metadata": {
        "id": "DhhQ52dHXXFU",
        "colab_type": "code",
        "colab": {}
      },
      "source": [
        "tf.__version__"
      ],
      "execution_count": null,
      "outputs": []
    },
    {
      "cell_type": "markdown",
      "metadata": {
        "id": "VZAflmrMLVri",
        "colab_type": "text"
      },
      "source": [
        "## Basic Cirq Operations"
      ]
    },
    {
      "cell_type": "markdown",
      "metadata": {
        "id": "e0GAjhQnMVHP",
        "colab_type": "text"
      },
      "source": [
        "### Qubits"
      ]
    },
    {
      "cell_type": "code",
      "metadata": {
        "id": "P2rlrOoFkmYA",
        "colab_type": "code",
        "colab": {}
      },
      "source": [
        "# Create two qubits\n",
        "q0 = cirq.GridQubit(0, 0)\n",
        "q1 = cirq.GridQubit(1, 0)\n",
        "print(q0,q1)"
      ],
      "execution_count": null,
      "outputs": []
    },
    {
      "cell_type": "code",
      "metadata": {
        "id": "gW_WT30PMFHi",
        "colab_type": "code",
        "colab": {}
      },
      "source": [
        "# Create two qubits\n",
        "q0, q1 = cirq.GridQubit.rect(1, 2)\n",
        "print(q0,q1)"
      ],
      "execution_count": null,
      "outputs": []
    },
    {
      "cell_type": "code",
      "metadata": {
        "id": "I8RHCdq6kyE1",
        "colab_type": "code",
        "colab": {}
      },
      "source": [
        "# Create two qubits\n",
        "q0,q1 = cirq.LineQubit.range(2)\n",
        "print(q0,q1)"
      ],
      "execution_count": null,
      "outputs": []
    },
    {
      "cell_type": "markdown",
      "metadata": {
        "id": "v4m9y1cBHdtn",
        "colab_type": "text"
      },
      "source": [
        "#### Ex: Qubits"
      ]
    },
    {
      "cell_type": "code",
      "metadata": {
        "id": "WnpCIl54HaHK",
        "colab_type": "code",
        "colab": {}
      },
      "source": [
        "q0, q1, q2 = [cirq.GridQubit(i, 0) for i in range(3)]\n",
        "print(q0,q1,q2)"
      ],
      "execution_count": null,
      "outputs": []
    },
    {
      "cell_type": "markdown",
      "metadata": {
        "id": "hZwae0LlHN_o",
        "colab_type": "text"
      },
      "source": [
        "### Quantum Gates"
      ]
    },
    {
      "cell_type": "code",
      "metadata": {
        "id": "W12WeFJy6XBS",
        "colab_type": "code",
        "colab": {}
      },
      "source": [
        "q0 = cirq.GridQubit(0, 0)\n",
        "q1 = cirq.GridQubit(1, 0)\n",
        "\n",
        "cirq.H(q0)\n",
        "cirq.CNOT(q0, q1)"
      ],
      "execution_count": null,
      "outputs": []
    },
    {
      "cell_type": "code",
      "metadata": {
        "id": "aCWOUGUd4UEl",
        "colab_type": "code",
        "colab": {}
      },
      "source": [
        "print(cirq.unitary(cirq.X))\n",
        "print(cirq.unitary(cirq.CNOT))"
      ],
      "execution_count": null,
      "outputs": []
    },
    {
      "cell_type": "code",
      "metadata": {
        "id": "9Ix4weaj5N1B",
        "colab_type": "code",
        "colab": {}
      },
      "source": [
        "print(cirq.measure(q0,q1))"
      ],
      "execution_count": null,
      "outputs": []
    },
    {
      "cell_type": "markdown",
      "metadata": {
        "id": "koohQZT6Zjct",
        "colab_type": "text"
      },
      "source": [
        "#### Ex: Quantum Gates"
      ]
    },
    {
      "cell_type": "code",
      "metadata": {
        "id": "FsIUYXIUZZU0",
        "colab_type": "code",
        "colab": {}
      },
      "source": [
        "q0, q1, q2 = [cirq.GridQubit(i, 0) for i in range(3)]\n",
        "\n",
        "cirq.H(q0)\n",
        "cirq.CNOT(q0, q1)\n",
        "cirq.CNOT(q0, q2)\n",
        "print(cirq.measure(q0,q1,q2))"
      ],
      "execution_count": null,
      "outputs": []
    },
    {
      "cell_type": "markdown",
      "metadata": {
        "id": "hO-22h1VIhf_",
        "colab_type": "text"
      },
      "source": [
        "### Quantum Circuits"
      ]
    },
    {
      "cell_type": "code",
      "metadata": {
        "id": "kwVp6yyrIK7_",
        "colab_type": "code",
        "colab": {}
      },
      "source": [
        "q0, q1 = cirq.LineQubit.range(2)\n",
        "\n",
        "circuit = cirq.Circuit()\n",
        "# circuit.append([cirq.H(q0)), cirq.X(q1), cirq.CNOT(q0, q1)])\n",
        "circuit.append(cirq.H(q0))\n",
        "circuit.append(cirq.X(q1))\n",
        "circuit.append(cirq.CNOT(q0, q1))\n",
        "circuit.append(cirq.measure(q0,q1))\n",
        "print(circuit)"
      ],
      "execution_count": null,
      "outputs": []
    },
    {
      "cell_type": "markdown",
      "metadata": {
        "id": "e5Qdf70Xamv_",
        "colab_type": "text"
      },
      "source": [
        "#### Ex: Quantum Circuits"
      ]
    },
    {
      "cell_type": "code",
      "metadata": {
        "id": "163yDmkiZpfp",
        "colab_type": "code",
        "colab": {}
      },
      "source": [
        "q0, q1, q2 = cirq.LineQubit.range(3)\n",
        "\n",
        "circuit = cirq.Circuit()\n",
        "circuit.append(cirq.H(q0))\n",
        "circuit.append(cirq.CNOT(q0, q1))\n",
        "circuit.append(cirq.CNOT(q0, q2))\n",
        "circuit.append(cirq.measure(q0,q1,q2))\n",
        "print(circuit)"
      ],
      "execution_count": null,
      "outputs": []
    },
    {
      "cell_type": "markdown",
      "metadata": {
        "id": "s-oso0MsQfKX",
        "colab_type": "text"
      },
      "source": [
        "### Simulator"
      ]
    },
    {
      "cell_type": "code",
      "metadata": {
        "id": "YwQhHT9fkDEK",
        "colab_type": "code",
        "colab": {}
      },
      "source": [
        "# Create a circuit to generate a Bell State:\n",
        "# sqrt(2) * ( |00> + |11> )\n",
        "bell_circuit = cirq.Circuit()\n",
        "q0, q1 = cirq.LineQubit.range(2)\n",
        "\n",
        "bell_circuit.append(cirq.H(q0))\n",
        "bell_circuit.append(cirq.CNOT(q0,q1))\n",
        "print(bell_circuit)\n",
        "\n",
        "simulator=cirq.Simulator()\n",
        "results=simulator.simulate(bell_circuit)\n",
        "print(results)\n",
        "\n",
        "bell_circuit.append(cirq.measure(q0, q1))\n",
        "results =simulator.run(bell_circuit, repetitions=1000)\n",
        "print(cirq.plot_state_histogram(results))\n"
      ],
      "execution_count": null,
      "outputs": []
    },
    {
      "cell_type": "markdown",
      "metadata": {
        "id": "oQxf4ZP3bCAD",
        "colab_type": "text"
      },
      "source": [
        "#### Ex: Simulator"
      ]
    },
    {
      "cell_type": "code",
      "metadata": {
        "id": "9VDcvSINtbNl",
        "colab_type": "code",
        "colab": {}
      },
      "source": [
        "bell_circuit = cirq.Circuit()\n",
        "q0, q1,q2  = cirq.LineQubit.range(3)\n",
        "\n",
        "bell_circuit.append(cirq.H(q0))\n",
        "bell_circuit.append(cirq.CNOT(q0,q1))\n",
        "bell_circuit.append(cirq.CNOT(q0,q2))\n",
        "print(bell_circuit)\n",
        "\n",
        "simulator=cirq.Simulator()\n",
        "results=simulator.simulate(bell_circuit)\n",
        "print(results)\n",
        "\n",
        "bell_circuit.append(cirq.measure(q0,q1,q2))\n",
        "results =simulator.run(bell_circuit, repetitions=1000)\n",
        "print(cirq.plot_state_histogram(results))"
      ],
      "execution_count": null,
      "outputs": []
    },
    {
      "cell_type": "markdown",
      "metadata": {
        "id": "1iFYpKSzLffX",
        "colab_type": "text"
      },
      "source": [
        "### Parametrized Circuit"
      ]
    },
    {
      "cell_type": "code",
      "metadata": {
        "id": "FxhPWtRdu6xm",
        "colab_type": "code",
        "colab": {}
      },
      "source": [
        "import matplotlib.pyplot as plt\n",
        "import sympy\n",
        "import numpy as np\n",
        "\n",
        "q = cirq.GridQubit(1,1)\n",
        "theta = sympy.symbols('theta')\n",
        "circuit = cirq.Circuit(cirq.rx(theta).on(q), cirq.measure(q, key='m'))\n",
        "\n",
        "param_sweep = cirq.Linspace('theta', start=0, stop=np.pi, length=100)\n",
        "\n",
        "# Simulate the sweep\n",
        "simulator = cirq.Simulator()\n",
        "trials = simulator.run_sweep(circuit, param_sweep, repetitions=1000)\n",
        "\n",
        "# Plot all the results\n",
        "x = [trial.params['theta'] for trial in trials]\n",
        "y = [trial.histogram(key='m')[1] / 1000.0 for trial in trials]\n",
        "plt.scatter(x,y)\n",
        "plt.xlabel('theta')\n",
        "plt.ylabel('probability of |1>')"
      ],
      "execution_count": null,
      "outputs": []
    },
    {
      "cell_type": "markdown",
      "metadata": {
        "id": "VpX9hij6YR4i",
        "colab_type": "text"
      },
      "source": [
        "# Topic 4 Quantum Machine Learning"
      ]
    },
    {
      "cell_type": "markdown",
      "metadata": {
        "id": "uliIVannPfm8",
        "colab_type": "text"
      },
      "source": [
        "### Convert to Tensor"
      ]
    },
    {
      "cell_type": "code",
      "metadata": {
        "id": "zCokjpkyLRh8",
        "colab_type": "code",
        "colab": {
          "base_uri": "https://localhost:8080/",
          "height": 35
        },
        "outputId": "22e8207e-b713-4c8b-ae9e-cd18510125fa"
      },
      "source": [
        "q0, q1 = cirq.GridQubit.rect(1, 2)\n",
        "\n",
        "circuit = cirq.Circuit()\n",
        "circuit.append(cirq.H(q0))\n",
        "circuit.append(cirq.X(q1))\n",
        "circuit.append(cirq.CNOT(q0, q1))\n",
        "circuit.append(cirq.measure(q0,q1))\n",
        "\n",
        "tensor_circuit = tfq.convert_to_tensor([circuit])\n",
        "result = outputs(tensor_circuit)\n",
        "print(result)\n",
        "# same_circuits = tfq.from_tensor(tensor_circuit)\n",
        "# print(same_circuits)"
      ],
      "execution_count": 50,
      "outputs": [
        {
          "output_type": "stream",
          "text": [
            "tf.Tensor([[1.8408706e-07]], shape=(1, 1), dtype=float32)\n"
          ],
          "name": "stdout"
        }
      ]
    },
    {
      "cell_type": "markdown",
      "metadata": {
        "id": "lpVlLtciUct7",
        "colab_type": "text"
      },
      "source": [
        "### Parametrized Quantum Circuit (PQC) Layer."
      ]
    },
    {
      "cell_type": "code",
      "metadata": {
        "id": "lgFNPqybPiin",
        "colab_type": "code",
        "colab": {
          "base_uri": "https://localhost:8080/",
          "height": 53
        },
        "outputId": "d6332edb-2d2f-41d8-8a5d-4907bc4a98a9"
      },
      "source": [
        "q = cirq.GridQubit(0, 0)\n",
        "(a, b, c) = sympy.symbols(\"a b c\")\n",
        "circuit = cirq.Circuit(\n",
        "    cirq.rz(a)(q),\n",
        "    cirq.rx(b)(q),\n",
        "    cirq.rz(c)(q)\n",
        ")\n",
        "measurement = [cirq.X(q), cirq.Y(q), cirq.Z(q)]\n",
        "outputs = tfq.layers.PQC(circuit,measurement)\n",
        "quantum_data = tfq.convert_to_tensor([cirq.Circuit(),cirq.Circuit(cirq.X(q))])\n",
        "res = outputs(quantum_data)\n",
        "res.numpy()"
      ],
      "execution_count": 64,
      "outputs": [
        {
          "output_type": "execute_result",
          "data": {
            "text/plain": [
              "array([[ 0.23841469, -0.8694439 , -0.4326962 ],\n",
              "       [-0.23841463,  0.86944395,  0.43269598]], dtype=float32)"
            ]
          },
          "metadata": {
            "tags": []
          },
          "execution_count": 64
        }
      ]
    },
    {
      "cell_type": "markdown",
      "metadata": {
        "id": "ira52Et1V20o",
        "colab_type": "text"
      },
      "source": [
        "### State Vector"
      ]
    },
    {
      "cell_type": "code",
      "metadata": {
        "id": "8siXl90TVLRh",
        "colab_type": "code",
        "colab": {
          "base_uri": "https://localhost:8080/",
          "height": 109
        },
        "outputId": "61af3911-d2c4-4216-c877-ab37c7323ffb"
      },
      "source": [
        "q0, q1 = cirq.GridQubit.rect(1, 2)\n",
        "bell_circuit = cirq.Circuit(cirq.H(q0), cirq.CNOT(q0, q1))\n",
        "state_layer = tfq.layers.State()\n",
        "state_layer(bell_circuit)"
      ],
      "execution_count": 59,
      "outputs": [
        {
          "output_type": "stream",
          "text": [
            "WARNING:tensorflow:From /usr/local/lib/python3.6/dist-packages/tensorflow_core/python/util/deprecation.py:507: calling count_nonzero (from tensorflow.python.ops.math_ops) with axis is deprecated and will be removed in a future version.\n",
            "Instructions for updating:\n",
            "reduction_indices is deprecated, use axis instead\n"
          ],
          "name": "stdout"
        },
        {
          "output_type": "execute_result",
          "data": {
            "text/plain": [
              "<tf.RaggedTensor [[(0.7071067690849304-1.2802768623032534e-08j), 0j, (1.3510586319685509e-15-3.0908619663705394e-08j), (0.7071067690849304+6.181723932741079e-08j)]]>"
            ]
          },
          "metadata": {
            "tags": []
          },
          "execution_count": 59
        }
      ]
    },
    {
      "cell_type": "markdown",
      "metadata": {
        "id": "If4MG9Ikg_G9",
        "colab_type": "text"
      },
      "source": [
        "## Hybrid Quantum-Classical Optimization"
      ]
    },
    {
      "cell_type": "code",
      "metadata": {
        "id": "L_6F8ho_8kEU",
        "colab_type": "code",
        "colab": {}
      },
      "source": [
        "import cirq\n",
        "import numpy as np\n",
        "import random\n",
        "import sympy\n",
        "import tensorflow as tf\n",
        "import tensorflow_quantum as tfq"
      ],
      "execution_count": 60,
      "outputs": []
    },
    {
      "cell_type": "markdown",
      "metadata": {
        "id": "AwnuSunT8nXZ",
        "colab_type": "text"
      },
      "source": [
        "#### Step 1: Generate Quantum Dataset"
      ]
    },
    {
      "cell_type": "code",
      "metadata": {
        "id": "N55qzCe3SIZ-",
        "colab_type": "code",
        "colab": {}
      },
      "source": [
        "def generate_dataset(qubit, theta_a, theta_b, num_samples):\n",
        "  \"\"\"Generate a dataset of points on `qubit` near the two given angles; labels\n",
        "  for the two clusters use a one-hot encoding.\n",
        "  \"\"\"\n",
        "  q_data = []\n",
        "  bloch = {\"a\": [[], [], []], \"b\": [[], [], []]}\n",
        "  labels = []\n",
        "  blob_size = abs(theta_a - theta_b) / 5\n",
        "  for _ in range(num_samples):\n",
        "    coin = random.random()\n",
        "    spread_x = np.random.uniform(-blob_size, blob_size)\n",
        "    spread_y = np.random.uniform(-blob_size, blob_size)\n",
        "    if coin < 0.5:\n",
        "      label = [1, 0]\n",
        "      angle = theta_a + spread_y\n",
        "      source = \"a\"\n",
        "    else:\n",
        "      label = [0, 1]\n",
        "      angle = theta_b + spread_y\n",
        "      source = \"b\"\n",
        "    labels.append(label)\n",
        "    q_data.append(cirq.Circuit(cirq.ry(-angle)(qubit), cirq.rx(-spread_x)(qubit)))\n",
        "    bloch[source][0].append(np.cos(angle))\n",
        "    bloch[source][1].append(np.sin(angle)*np.sin(spread_x))\n",
        "    bloch[source][2].append(np.sin(angle)*np.cos(spread_x))\n",
        "  return tfq.convert_to_tensor(q_data), np.array(labels), bloch\n",
        "\n",
        "#Genrate the dataset\n",
        "qubit = cirq.GridQubit(0, 0)\n",
        "theta_a = 1\n",
        "theta_b = 4\n",
        "num_samples = 200\n",
        "q_data, labels, bloch_p = generate_dataset(qubit, theta_a, theta_b, num_samples)"
      ],
      "execution_count": 61,
      "outputs": []
    },
    {
      "cell_type": "markdown",
      "metadata": {
        "id": "sWMkySMB8vOD",
        "colab_type": "text"
      },
      "source": [
        "#### Step 2 Quantum Classicl Model"
      ]
    },
    {
      "cell_type": "code",
      "metadata": {
        "id": "fdAAJl1j8hSb",
        "colab_type": "code",
        "colab": {}
      },
      "source": [
        "#We will use a parameterized rotation about the Y axis followed by a Z-axis measurement as the quantum portion of our model.\n",
        "#For the classical portion, we will use a two-unit SoftMax which should learn to distinguish the measurement statistics of the two data sources.\n",
        "\n",
        "# Build the quantum model layer\n",
        "theta = sympy.symbols('theta')\n",
        "q_model = cirq.Circuit(cirq.ry(theta)(qubit))\n",
        "q_data_input = tf.keras.Input(shape=(), dtype=tf.dtypes.string)\n",
        "expectation = tfq.layers.PQC(q_model, cirq.Z(qubit))\n",
        "expectation_output = expectation(q_data_input)\n",
        "\n",
        "# Attach the classical SoftMax classifier\n",
        "classifier = tf.keras.layers.Dense(2, activation=tf.keras.activations.softmax)\n",
        "classifier_output = classifier(expectation_output)\n",
        "model = tf.keras.Model(inputs=q_data_input, outputs=classifier_output)\n"
      ],
      "execution_count": null,
      "outputs": []
    },
    {
      "cell_type": "markdown",
      "metadata": {
        "id": "yBajpFvp-Rmb",
        "colab_type": "text"
      },
      "source": [
        "#### Training"
      ]
    },
    {
      "cell_type": "code",
      "metadata": {
        "id": "wCHTjJu19xz2",
        "colab_type": "code",
        "colab": {}
      },
      "source": [
        "optimizer = tf.keras.optimizers.Adam(learning_rate=0.1)\n",
        "model.compile(optimizer=optimizer,loss='categorical_crossentropy')\n",
        "tf.keras.utils.plot_model(model, show_shapes=True)"
      ],
      "execution_count": null,
      "outputs": []
    },
    {
      "cell_type": "code",
      "metadata": {
        "id": "UFZyPjm5CLNr",
        "colab_type": "code",
        "colab": {}
      },
      "source": [
        "history = model.fit(x=q_data, y=labels, epochs=50)"
      ],
      "execution_count": null,
      "outputs": []
    },
    {
      "cell_type": "code",
      "metadata": {
        "id": "Oah_iXGTC3Bg",
        "colab_type": "code",
        "colab": {}
      },
      "source": [
        "import matplotlib.pyplot as plt\n",
        "\n",
        "loss=history.history['loss']\n",
        "epoch=range(50)\n",
        "\n",
        "plt.plot(epoch,loss)\n",
        "plt.xlabel('epoch')\n",
        "plt.ylabel('loss')"
      ],
      "execution_count": null,
      "outputs": []
    },
    {
      "cell_type": "markdown",
      "metadata": {
        "id": "elh17HKr-T9F",
        "colab_type": "text"
      },
      "source": [
        "#### Testing"
      ]
    },
    {
      "cell_type": "code",
      "metadata": {
        "id": "HS59_3_3-NYQ",
        "colab_type": "code",
        "colab": {}
      },
      "source": [
        "test_data, _, _ = generate_dataset(qubit, theta_a, theta_b, 1)\n",
        "p = model.predict(test_data)[0]\n",
        "print(f\"prob(a)={p[0]:.4f}, prob(b)={p[1]:.4f}\")"
      ],
      "execution_count": null,
      "outputs": []
    },
    {
      "cell_type": "code",
      "metadata": {
        "id": "5I_TmcxuFSfG",
        "colab_type": "code",
        "colab": {}
      },
      "source": [
        ""
      ],
      "execution_count": null,
      "outputs": []
    },
    {
      "cell_type": "markdown",
      "metadata": {
        "id": "kBydx2aRY9iS",
        "colab_type": "text"
      },
      "source": [
        "## Second Example of Quantum Classical Model"
      ]
    },
    {
      "cell_type": "code",
      "metadata": {
        "id": "JOFem5ZzFN7Y",
        "colab_type": "code",
        "colab": {
          "base_uri": "https://localhost:8080/",
          "height": 70
        },
        "outputId": "6071ff4b-485a-4462-a9cf-7ceca3cd688a"
      },
      "source": [
        "# Parameters that the classical NN will feed values into.\n",
        "control_params = sympy.symbols('theta_1 theta_2 theta_3')\n",
        "\n",
        "# Create the parameterized circuit.\n",
        "qubit = cirq.GridQubit(0, 0)\n",
        "model_circuit = cirq.Circuit(\n",
        "    cirq.rz(control_params[0])(qubit),\n",
        "    cirq.ry(control_params[1])(qubit),\n",
        "    cirq.rx(control_params[2])(qubit))\n",
        "\n",
        "SVGCircuit(model_circuit)"
      ],
      "execution_count": 17,
      "outputs": [
        {
          "output_type": "execute_result",
          "data": {
            "text/plain": [
              "<cirq.contrib.svg.svg.SVGCircuit at 0x7f150ede42b0>"
            ],
            "image/svg+xml": "<svg xmlns=\"http://www.w3.org/2000/svg\" width=\"435.74449218750004\" height=\"50.0\"><line x1=\"34.7588671875\" x2=\"405.74449218750004\" y1=\"25.0\" y2=\"25.0\" stroke=\"#1967d2\" stroke-width=\"1\" /><rect x=\"10.0\" y=\"5.0\" width=\"49.517734375\" height=\"40\" stroke=\"black\" fill=\"white\" stroke-width=\"0\" /><text x=\"34.7588671875\" y=\"25.0\" dominant-baseline=\"middle\" text-anchor=\"middle\" font-size=\"14px\">(0, 0): </text><rect x=\"79.517734375\" y=\"5.0\" width=\"88.37457031250001\" height=\"40\" stroke=\"black\" fill=\"white\" stroke-width=\"1\" /><text x=\"123.70501953125\" y=\"25.0\" dominant-baseline=\"middle\" text-anchor=\"middle\" font-size=\"14px\">Rz(theta_1)</text><rect x=\"187.89230468750003\" y=\"5.0\" width=\"88.54109375\" height=\"40\" stroke=\"black\" fill=\"white\" stroke-width=\"1\" /><text x=\"232.16285156250004\" y=\"25.0\" dominant-baseline=\"middle\" text-anchor=\"middle\" font-size=\"14px\">Ry(theta_2)</text><rect x=\"296.43339843750005\" y=\"5.0\" width=\"89.31109375000001\" height=\"40\" stroke=\"black\" fill=\"white\" stroke-width=\"1\" /><text x=\"341.0889453125001\" y=\"25.0\" dominant-baseline=\"middle\" text-anchor=\"middle\" font-size=\"14px\">Rx(theta_3)</text></svg>"
          },
          "metadata": {
            "tags": []
          },
          "execution_count": 17
        }
      ]
    },
    {
      "cell_type": "code",
      "metadata": {
        "id": "TLagBxS9HUEJ",
        "colab_type": "code",
        "colab": {}
      },
      "source": [
        "# The classical neural network layers.\n",
        "controller = tf.keras.Sequential([\n",
        "    tf.keras.layers.Dense(10, activation='elu'),\n",
        "    tf.keras.layers.Dense(3)\n",
        "])"
      ],
      "execution_count": 18,
      "outputs": []
    },
    {
      "cell_type": "code",
      "metadata": {
        "id": "hPp03P76HWEY",
        "colab_type": "code",
        "colab": {}
      },
      "source": [
        "# This input is the simulated miscalibration that the model will learn to correct.\n",
        "circuits_input = tf.keras.Input(shape=(),dtype=tf.string,name='circuits_input')\n",
        "\n",
        "# Commands will be either `0` or `1`, specifying the state to set the qubit to.\n",
        "commands_input = tf.keras.Input(shape=(1,),dtype=tf.dtypes.float32,name='commands_input')"
      ],
      "execution_count": 19,
      "outputs": []
    },
    {
      "cell_type": "code",
      "metadata": {
        "id": "9znTM7dTHZUS",
        "colab_type": "code",
        "colab": {}
      },
      "source": [
        "dense_2 = controller(commands_input)\n",
        "\n",
        "# TFQ layer for classically controlled circuits.\n",
        "expectation_layer = tfq.layers.ControlledPQC(model_circuit, operators = cirq.Z(qubit))\n",
        "expectation = expectation_layer([circuits_input, dense_2])"
      ],
      "execution_count": 20,
      "outputs": []
    },
    {
      "cell_type": "code",
      "metadata": {
        "id": "3HDGAyyYH36N",
        "colab_type": "code",
        "colab": {}
      },
      "source": [
        "# The full Keras model is built from our layers.\n",
        "model = tf.keras.Model(inputs=[circuits_input, commands_input],\n",
        "                       outputs=expectation)"
      ],
      "execution_count": 21,
      "outputs": []
    },
    {
      "cell_type": "code",
      "metadata": {
        "id": "u0tLSDL6H86g",
        "colab_type": "code",
        "colab": {
          "base_uri": "https://localhost:8080/",
          "height": 312
        },
        "outputId": "f6a84fb8-a1f6-4b66-9555-422649b25f4b"
      },
      "source": [
        "tf.keras.utils.plot_model(model, show_shapes=True)"
      ],
      "execution_count": 22,
      "outputs": [
        {
          "output_type": "execute_result",
          "data": {
            "image/png": "[encoded data removed]",
            "text/plain": [
              "<IPython.core.display.Image object>"
            ]
          },
          "metadata": {
            "tags": []
          },
          "execution_count": 22
        }
      ]
    },
    {
      "cell_type": "code",
      "metadata": {
        "id": "g1rUAhwiH_vR",
        "colab_type": "code",
        "colab": {}
      },
      "source": [
        "# The command input values to the classical NN.\n",
        "commands = np.array([[0], [1]], dtype=np.float32)\n",
        "\n",
        "# The desired Z expectation value at output of quantum circuit.\n",
        "expected_outputs = np.array([[1], [-1]], dtype=np.float32)"
      ],
      "execution_count": 23,
      "outputs": []
    },
    {
      "cell_type": "code",
      "metadata": {
        "id": "URiL4YkEIB-F",
        "colab_type": "code",
        "colab": {}
      },
      "source": [
        "random_rotations = np.random.uniform(0, 2 * np.pi, 3)\n",
        "noisy_preparation = cirq.Circuit(\n",
        "  cirq.rx(random_rotations[0])(qubit),\n",
        "  cirq.ry(random_rotations[1])(qubit),\n",
        "  cirq.rz(random_rotations[2])(qubit)\n",
        ")\n",
        "datapoint_circuits = tfq.convert_to_tensor([\n",
        "  noisy_preparation\n",
        "] * 2)  # Make two copied of this circuit"
      ],
      "execution_count": 24,
      "outputs": []
    },
    {
      "cell_type": "code",
      "metadata": {
        "id": "cq78YBcgIG7A",
        "colab_type": "code",
        "colab": {
          "base_uri": "https://localhost:8080/",
          "height": 1000
        },
        "outputId": "90d359eb-ce2c-48c8-ea97-41646ce5eaa1"
      },
      "source": [
        "optimizer = tf.keras.optimizers.Adam(learning_rate=0.05)\n",
        "loss = tf.keras.losses.MeanSquaredError()\n",
        "model.compile(optimizer=optimizer, loss=loss)\n",
        "history = model.fit(x=[datapoint_circuits, commands],y=expected_outputs,epochs=30)"
      ],
      "execution_count": 25,
      "outputs": [
        {
          "output_type": "stream",
          "text": [
            "Train on 2 samples\n",
            "Epoch 1/30\n",
            "2/2 [==============================] - 1s 318ms/sample - loss: 0.5220\n",
            "Epoch 2/30\n",
            "2/2 [==============================] - 0s 4ms/sample - loss: 0.2536\n",
            "Epoch 3/30\n",
            "2/2 [==============================] - 0s 2ms/sample - loss: 0.1265\n",
            "Epoch 4/30\n",
            "2/2 [==============================] - 0s 3ms/sample - loss: 0.0566\n",
            "Epoch 5/30\n",
            "2/2 [==============================] - 0s 2ms/sample - loss: 0.0181\n",
            "Epoch 6/30\n",
            "2/2 [==============================] - 0s 2ms/sample - loss: 0.0036\n",
            "Epoch 7/30\n",
            "2/2 [==============================] - 0s 3ms/sample - loss: 3.4535e-04\n",
            "Epoch 8/30\n",
            "2/2 [==============================] - 0s 3ms/sample - loss: 1.6948e-05\n",
            "Epoch 9/30\n",
            "2/2 [==============================] - 0s 3ms/sample - loss: 4.1973e-05\n",
            "Epoch 10/30\n",
            "2/2 [==============================] - 0s 3ms/sample - loss: 5.1062e-04\n",
            "Epoch 11/30\n",
            "2/2 [==============================] - 0s 3ms/sample - loss: 0.0021\n",
            "Epoch 12/30\n",
            "2/2 [==============================] - 0s 3ms/sample - loss: 0.0050\n",
            "Epoch 13/30\n",
            "2/2 [==============================] - 0s 2ms/sample - loss: 0.0083\n",
            "Epoch 14/30\n",
            "2/2 [==============================] - 0s 2ms/sample - loss: 0.0105\n",
            "Epoch 15/30\n",
            "2/2 [==============================] - 0s 2ms/sample - loss: 0.0107\n",
            "Epoch 16/30\n",
            "2/2 [==============================] - 0s 2ms/sample - loss: 0.0091\n",
            "Epoch 17/30\n",
            "2/2 [==============================] - 0s 2ms/sample - loss: 0.0067\n",
            "Epoch 18/30\n",
            "2/2 [==============================] - 0s 2ms/sample - loss: 0.0044\n",
            "Epoch 19/30\n",
            "2/2 [==============================] - 0s 2ms/sample - loss: 0.0026\n",
            "Epoch 20/30\n",
            "2/2 [==============================] - 0s 2ms/sample - loss: 0.0014\n",
            "Epoch 21/30\n",
            "2/2 [==============================] - 0s 3ms/sample - loss: 7.4858e-04\n",
            "Epoch 22/30\n",
            "2/2 [==============================] - 0s 2ms/sample - loss: 4.7004e-04\n",
            "Epoch 23/30\n",
            "2/2 [==============================] - 0s 2ms/sample - loss: 4.7006e-04\n",
            "Epoch 24/30\n",
            "2/2 [==============================] - 0s 2ms/sample - loss: 6.3931e-04\n",
            "Epoch 25/30\n",
            "2/2 [==============================] - 0s 2ms/sample - loss: 8.2944e-04\n",
            "Epoch 26/30\n",
            "2/2 [==============================] - 0s 2ms/sample - loss: 8.8807e-04\n",
            "Epoch 27/30\n",
            "2/2 [==============================] - 0s 2ms/sample - loss: 7.6294e-04\n",
            "Epoch 28/30\n",
            "2/2 [==============================] - 0s 2ms/sample - loss: 5.3378e-04\n",
            "Epoch 29/30\n",
            "2/2 [==============================] - 0s 2ms/sample - loss: 3.1598e-04\n",
            "Epoch 30/30\n",
            "2/2 [==============================] - 0s 2ms/sample - loss: 1.6796e-04\n"
          ],
          "name": "stdout"
        }
      ]
    },
    {
      "cell_type": "code",
      "metadata": {
        "id": "evXORLXYIrWr",
        "colab_type": "code",
        "colab": {
          "base_uri": "https://localhost:8080/",
          "height": 295
        },
        "outputId": "8e1430e4-54e3-4c2a-ddff-3bac8e8cd19a"
      },
      "source": [
        "plt.plot(history.history['loss'])\n",
        "plt.title(\"Learning to Control a Qubit\")\n",
        "plt.xlabel(\"Iterations\")\n",
        "plt.ylabel(\"Error in Control\")\n",
        "plt.show()"
      ],
      "execution_count": 26,
      "outputs": [
        {
          "output_type": "display_data",
          "data": {
            "image/png": "[encoded data removed]",
            "text/plain": [
              "<Figure size 432x288 with 1 Axes>"
            ]
          },
          "metadata": {
            "tags": [],
            "needs_background": "light"
          }
        }
      ]
    },
    {
      "cell_type": "code",
      "metadata": {
        "id": "AS3T67DFI8Qv",
        "colab_type": "code",
        "colab": {}
      },
      "source": [
        ""
      ],
      "execution_count": null,
      "outputs": []
    }
  ]
}